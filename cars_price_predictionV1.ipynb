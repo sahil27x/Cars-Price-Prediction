{
 "cells": [
  {
   "cell_type": "markdown",
   "metadata": {},
   "source": [
    "<div class=\"fluid-row\" id=\"section-header\">\n",
    "<center>\n",
    "    <h1>\n",
    "        <u>Used Cars Price Prediction</u>\n",
    "    </h1>\n",
    "</center>\n",
    "<div class=\"fluid-row\" id=\"section-header\">\n",
    "    <h2 class=\"title toc-ignore\">Introduction</h2>\n",
    "    <p class=\"lead\">In this notebook I will build a multiple regression model that can predict cars price based on multiple features such as mileage, mark, model, model_year, fuel_type and the city, the data I will work with was extracted from a famous ads platform called Avito</a>. The notebook will be presented as follow : \n",
    "    </p>\n",
    "    <ul class=\"lead\">\n",
    "        <li>Data collection</li>\n",
    "        <li>Data Preprocessing & Cleansing</li>\n",
    "        <li>Exploratory data analysis & Visualisation</li>\n",
    "        <li>Data Modeling</li>\n",
    "        <li>Evaluting the Model</li>\n",
    "    </ul>\n",
    "</div>"
   ]
  },
  {
   "cell_type": "markdown",
   "metadata": {},
   "source": [
    "## Data collection"
   ]
  },
  {
   "cell_type": "code",
   "execution_count": 1,
   "metadata": {},
   "outputs": [
    {
     "name": "stderr",
     "output_type": "stream",
     "text": [
      "/Users/sahilarora/anaconda/lib/python3.6/site-packages/sklearn/cross_validation.py:41: DeprecationWarning: This module was deprecated in version 0.18 in favor of the model_selection module into which all the refactored classes and functions are moved. Also note that the interface of the new CV iterators are different from that of this module. This module will be removed in 0.20.\n",
      "  \"This module will be removed in 0.20.\", DeprecationWarning)\n"
     ]
    }
   ],
   "source": [
    "# data colelction and preprocessing\n",
    "from bs4 import BeautifulSoup\n",
    "import requests\n",
    "import pandas as pd\n",
    "import csv\n",
    "# for data visualisation and statistical analysis\n",
    "import numpy as np\n",
    "from sklearn.cross_validation import train_test_split\n",
    "import seaborn as sns\n",
    "sns.set_style(\"white\")\n",
    "import matplotlib.patches as mpatches\n",
    "import matplotlib.pyplot as plt\n",
    "from pylab import rcParams\n",
    "%matplotlib inline"
   ]
  },
  {
   "cell_type": "code",
   "execution_count": null,
   "metadata": {
    "collapsed": true
   },
   "outputs": [],
   "source": [
    "def get_ads_urls():\n",
    "    urls_list = []\n",
    "    # define the basic url to crawl on\n",
    "    basic_url = \"https://www.avito.ma/fr/maroc/voitures-à_vendre?mpr=500000000&o=\"\n",
    "    # loop over the paginated urls\n",
    "    for i in range(1,250):\n",
    "        # get the page url\n",
    "        url = basic_url+str(i)\n",
    "        # get the request response\n",
    "        r  = requests.get(url)\n",
    "        data = r.text\n",
    "        # transform it to bs object\n",
    "        soup = BeautifulSoup(data, \"lxml\")\n",
    "        # loop over page links\n",
    "        for div in soup.findAll('div', {'class': 'item-img'}):\n",
    "            a = div.findAll('a')[0]\n",
    "            urls_list.append(a.get('href'))\n",
    "\n",
    "\n",
    "    df = pd.DataFrame(data={\"url\": urls_list})\n",
    "    df.to_csv(\"./data/ads_urls.csv\", sep=',',index=False)"
   ]
  },
  {
   "cell_type": "code",
   "execution_count": null,
   "metadata": {
    "collapsed": true
   },
   "outputs": [],
   "source": [
    "# get the ads urls and save them in a file\n",
    "get_ads_urls()"
   ]
  },
  {
   "cell_type": "code",
   "execution_count": 4,
   "metadata": {
    "collapsed": true
   },
   "outputs": [],
   "source": [
    "def scrap_ad_data(ad_url):\n",
    "    r = requests.get(ad_url)\n",
    "    data = r.text\n",
    "    soup = BeautifulSoup(data, \"html.parser\")\n",
    "    target_component = soup.findAll(\"h2\",  {\"class\": [\"font-normal\", \"fs12\", \"no-margin\", \"ln22\"]})\n",
    "    # create a list that will hold our component data\n",
    "    results = []\n",
    "    for i in target_component:\n",
    "        results.append(''.join(i.findAll(text=True)).replace('\\n',''))\n",
    "    return results"
   ]
  },
  {
   "cell_type": "code",
   "execution_count": 5,
   "metadata": {
    "collapsed": true
   },
   "outputs": [],
   "source": [
    "def write_data_to_csv(data):\n",
    "    with open(\"./data/output.csv\", \"w\") as f:\n",
    "        writer = csv.writer(f)\n",
    "        writer.writerows(data)"
   ]
  },
  {
   "cell_type": "code",
   "execution_count": 8,
   "metadata": {},
   "outputs": [
    {
     "name": "stdout",
     "output_type": "stream",
     "text": [
      "Scrapping data finished\n"
     ]
    }
   ],
   "source": [
    "# read the saved urls file as a dataframe \n",
    "urls_data = pd.read_csv(\"./data/ads_urls.csv\")\n",
    "# create  a list that will hold the final data\n",
    "final_result = []\n",
    "i = 1\n",
    "# loop over the dataframe\n",
    "for index, row in urls_data.iterrows():\n",
    "    final_result.append(scrap_ad_data(row['url']))\n",
    "    # to count how many page we have processed since qe have 35 links per page\n",
    "    #i += 1\n",
    "    #if i%100 == 0:\n",
    "    #    print(\"page \",i, \"done\")\n",
    "print('Scrapping data finished')\n",
    "# now that we have all the data we can write it in a csv file\n",
    "write_data_to_csv(final_result)"
   ]
  },
  {
   "cell_type": "markdown",
   "metadata": {},
   "source": [
    "## Data Preprocessing & Cleansing"
   ]
  },
  {
   "cell_type": "code",
   "execution_count": 8,
   "metadata": {},
   "outputs": [
    {
     "data": {
      "text/html": [
       "<div>\n",
       "<style>\n",
       "    .dataframe thead tr:only-child th {\n",
       "        text-align: right;\n",
       "    }\n",
       "\n",
       "    .dataframe thead th {\n",
       "        text-align: left;\n",
       "    }\n",
       "\n",
       "    .dataframe tbody tr th {\n",
       "        vertical-align: top;\n",
       "    }\n",
       "</style>\n",
       "<table border=\"1\" class=\"dataframe\">\n",
       "  <thead>\n",
       "    <tr style=\"text-align: right;\">\n",
       "      <th></th>\n",
       "      <th>price</th>\n",
       "      <th>year_model</th>\n",
       "      <th>mileage</th>\n",
       "      <th>fuel_type</th>\n",
       "      <th>mark</th>\n",
       "      <th>model</th>\n",
       "      <th>fiscal_power</th>\n",
       "      <th>sector</th>\n",
       "      <th>type</th>\n",
       "      <th>city</th>\n",
       "    </tr>\n",
       "  </thead>\n",
       "  <tbody>\n",
       "    <tr>\n",
       "      <th>0</th>\n",
       "      <td>135 000 DH</td>\n",
       "      <td>Année-Modèle:2013</td>\n",
       "      <td>Kilométrage:160 000 - 169 999</td>\n",
       "      <td>Type de carburant:Diesel</td>\n",
       "      <td>Marque:Peugeot</td>\n",
       "      <td>Modèle:508</td>\n",
       "      <td>Puissance fiscale:-</td>\n",
       "      <td>-</td>\n",
       "      <td>Type:Voitures, Offre</td>\n",
       "      <td>Temara</td>\n",
       "    </tr>\n",
       "    <tr>\n",
       "      <th>1</th>\n",
       "      <td>53 000 DH</td>\n",
       "      <td>Année-Modèle:2008</td>\n",
       "      <td>Kilométrage:35 000 - 39 999</td>\n",
       "      <td>Type de carburant:Diesel</td>\n",
       "      <td>Marque:Renault</td>\n",
       "      <td>Modèle:Clio</td>\n",
       "      <td>Puissance fiscale:-</td>\n",
       "      <td>-</td>\n",
       "      <td>Type:Voitures, Offre</td>\n",
       "      <td>Safi</td>\n",
       "    </tr>\n",
       "    <tr>\n",
       "      <th>2</th>\n",
       "      <td>59 000 DH</td>\n",
       "      <td>Année-Modèle:2007</td>\n",
       "      <td>Kilométrage:180 000 - 189 999</td>\n",
       "      <td>Type de carburant:Diesel</td>\n",
       "      <td>Marque:Citroen</td>\n",
       "      <td>Modèle:C3</td>\n",
       "      <td>Puissance fiscale:6 CV</td>\n",
       "      <td>Secteur:oued_fes</td>\n",
       "      <td>Type:Voitures, Offre</td>\n",
       "      <td>Fès</td>\n",
       "    </tr>\n",
       "    <tr>\n",
       "      <th>3</th>\n",
       "      <td>88 000 DH</td>\n",
       "      <td>Année-Modèle:2010</td>\n",
       "      <td>Kilométrage:35 000 - 39 999</td>\n",
       "      <td>Type de carburant:Diesel</td>\n",
       "      <td>Marque:Mercedes-Benz</td>\n",
       "      <td>Modèle:220</td>\n",
       "      <td>Puissance fiscale:-</td>\n",
       "      <td>-</td>\n",
       "      <td>Type:Voitures, Offre</td>\n",
       "      <td>Nador</td>\n",
       "    </tr>\n",
       "    <tr>\n",
       "      <th>4</th>\n",
       "      <td>60 000 DH</td>\n",
       "      <td>Année-Modèle:2009</td>\n",
       "      <td>Kilométrage:130 000 - 139 999</td>\n",
       "      <td>Type de carburant:Essence</td>\n",
       "      <td>Marque:Ford</td>\n",
       "      <td>Modèle:Fiesta</td>\n",
       "      <td>Puissance fiscale:7 CV</td>\n",
       "      <td>Secteur:saies</td>\n",
       "      <td>Type:Voitures, Offre</td>\n",
       "      <td>Fès</td>\n",
       "    </tr>\n",
       "  </tbody>\n",
       "</table>\n",
       "</div>"
      ],
      "text/plain": [
       "        price         year_model                        mileage  \\\n",
       "0  135 000 DH  Année-Modèle:2013  Kilométrage:160 000 - 169 999   \n",
       "1   53 000 DH  Année-Modèle:2008    Kilométrage:35 000 - 39 999   \n",
       "2   59 000 DH  Année-Modèle:2007  Kilométrage:180 000 - 189 999   \n",
       "3   88 000 DH  Année-Modèle:2010    Kilométrage:35 000 - 39 999   \n",
       "4   60 000 DH  Année-Modèle:2009  Kilométrage:130 000 - 139 999   \n",
       "\n",
       "                   fuel_type                  mark          model  \\\n",
       "0   Type de carburant:Diesel        Marque:Peugeot     Modèle:508   \n",
       "1   Type de carburant:Diesel        Marque:Renault    Modèle:Clio   \n",
       "2   Type de carburant:Diesel        Marque:Citroen      Modèle:C3   \n",
       "3   Type de carburant:Diesel  Marque:Mercedes-Benz     Modèle:220   \n",
       "4  Type de carburant:Essence           Marque:Ford  Modèle:Fiesta   \n",
       "\n",
       "             fiscal_power            sector                  type     city  \n",
       "0     Puissance fiscale:-                 -  Type:Voitures, Offre   Temara  \n",
       "1     Puissance fiscale:-                 -  Type:Voitures, Offre     Safi  \n",
       "2  Puissance fiscale:6 CV  Secteur:oued_fes  Type:Voitures, Offre      Fès  \n",
       "3     Puissance fiscale:-                 -  Type:Voitures, Offre    Nador  \n",
       "4  Puissance fiscale:7 CV     Secteur:saies  Type:Voitures, Offre      Fès  "
      ]
     },
     "execution_count": 8,
     "metadata": {},
     "output_type": "execute_result"
    }
   ],
   "source": [
    "# set the column names\n",
    "colnames=['price', 'year_model', 'mileage', 'fuel_type', 'mark', 'model', 'fiscal_power', 'sector', 'type', 'city'] \n",
    "# read the csv file as a dataframe\n",
    "df = pd.read_csv(\"output.csv\", sep=\",\", names=colnames, header=None)\n",
    "# let's get some simple vision on our dataset\n",
    "df.head()"
   ]
  },
  {
   "cell_type": "markdown",
   "metadata": {},
   "source": [
    "### Starting the Preprocessing"
   ]
  },
  {
   "cell_type": "markdown",
   "metadata": {},
   "source": [
    "#### Price Columns"
   ]
  },
  {
   "cell_type": "markdown",
   "metadata": {},
   "source": [
    "<p class=\"lead\">One thing I have noticed is that there are some ads that were published without the price, so the first thing to do is to delete those rows.</p>"
   ]
  },
  {
   "cell_type": "code",
   "execution_count": 9,
   "metadata": {
    "collapsed": true
   },
   "outputs": [],
   "source": [
    "# remove thos rows doesn't contain the price value\n",
    "df = df[df.price.str.contains(\"DH\") == True]\n",
    "# remove the 'DH' caracters from the price\n",
    "df.price = df.price.map(lambda x: x.rstrip('DH'))\n",
    "# remove the space on it\n",
    "df.price = df.price.str.replace(\" \",\"\")\n",
    "# change it to integer value\n",
    "df.price = pd.to_numeric(df.price, errors = 'coerce', downcast= 'integer')"
   ]
  },
  {
   "cell_type": "markdown",
   "metadata": {},
   "source": [
    "#### Year Model"
   ]
  },
  {
   "cell_type": "code",
   "execution_count": 10,
   "metadata": {
    "collapsed": true
   },
   "outputs": [],
   "source": [
    "# remove thos rows doesn't contain the year_model value\n",
    "df = df[df.year_model.str.contains(\"Année-Modèle\") == True]\n",
    "# remove the 'Année-Modèle:' from the year_model\n",
    "df.year_model = df.year_model.map(lambda x: x.lstrip('Année-Modèle:').rstrip('ou plus ancien'))\n",
    "# df.year_model = df.year_model.map(lambda x: x.lstrip('Plus de '))\n",
    "# remove those lines having the year_model not set\n",
    "df = df[df.year_model != ' -']\n",
    "df = df[df.year_model != '']\n",
    "# change it to integer value\n",
    "df.year_model = pd.to_numeric(df.year_model, errors = 'coerce', downcast = 'integer')"
   ]
  },
  {
   "cell_type": "markdown",
   "metadata": {},
   "source": [
    "#### mileage"
   ]
  },
  {
   "cell_type": "markdown",
   "metadata": {},
   "source": [
    "<p class=\"lead\">Taking mean of the min and max milage of each car </p>"
   ]
  },
  {
   "cell_type": "code",
   "execution_count": null,
   "metadata": {
    "collapsed": true
   },
   "outputs": [],
   "source": [
    "# remove thos rows doesn't contain the year_model value\n",
    "df = df[df.mileage.str.contains(\"Kilométrage\") == True]\n",
    "# remove the 'Kilométrage:' string from the mileage feature \n",
    "df.mileage = df.mileage.map(lambda x: x.lstrip('Kilométrage:'))\n",
    "df.mileage = df.mileage.map(lambda x: x.lstrip('Plus de '))\n",
    "# remove those lines having the mileage values null or '-'\n",
    "df = df[df.mileage != '-']\n",
    "# we have only one value type that is equal to 500 000, all the other ones contain two values\n",
    "if any(df.mileage != '500 000'):\n",
    "    # create two columns minim and maxim to calculate the mileage mean\n",
    "    df['minim'], df['maxim'] = df.mileage.str.split('-', 1).str\n",
    "    # remove spaces from the maxim & minim values \n",
    "    df['maxim'] = df.maxim.str.replace(\" \",\"\")\n",
    "    df['minim'] = df.minim.str.replace(\" \",\"\")\n",
    "    df['maxim'] = df['maxim'].replace(np.nan, 500000)\n",
    "    # calculate the mean of mileage \n",
    "    df.mileage = df.apply(lambda row: (int(row.minim) + int(row.maxim)) / 2, axis=1)\n",
    "    # now that the mileage is calculated so we do not need the minim and maxim values anymore\n",
    "    df = df.drop(columns=['minim', 'maxim'])"
   ]
  },
  {
   "cell_type": "code",
   "execution_count": 16,
   "metadata": {
    "collapsed": true
   },
   "outputs": [],
   "source": [
    "df=df.drop('minim', axis=1)\n"
   ]
  },
  {
   "cell_type": "code",
   "execution_count": 17,
   "metadata": {
    "collapsed": true
   },
   "outputs": [],
   "source": [
    "df=df.drop('maxim',axis=1)"
   ]
  },
  {
   "cell_type": "code",
   "execution_count": 18,
   "metadata": {},
   "outputs": [
    {
     "data": {
      "text/html": [
       "<div>\n",
       "<style>\n",
       "    .dataframe thead tr:only-child th {\n",
       "        text-align: right;\n",
       "    }\n",
       "\n",
       "    .dataframe thead th {\n",
       "        text-align: left;\n",
       "    }\n",
       "\n",
       "    .dataframe tbody tr th {\n",
       "        vertical-align: top;\n",
       "    }\n",
       "</style>\n",
       "<table border=\"1\" class=\"dataframe\">\n",
       "  <thead>\n",
       "    <tr style=\"text-align: right;\">\n",
       "      <th></th>\n",
       "      <th>price</th>\n",
       "      <th>year_model</th>\n",
       "      <th>mileage</th>\n",
       "      <th>fuel_type</th>\n",
       "      <th>mark</th>\n",
       "      <th>model</th>\n",
       "      <th>fiscal_power</th>\n",
       "      <th>sector</th>\n",
       "      <th>type</th>\n",
       "      <th>city</th>\n",
       "    </tr>\n",
       "  </thead>\n",
       "  <tbody>\n",
       "    <tr>\n",
       "      <th>0</th>\n",
       "      <td>135000</td>\n",
       "      <td>2013</td>\n",
       "      <td>164999.5</td>\n",
       "      <td>Type de carburant:Diesel</td>\n",
       "      <td>Marque:Peugeot</td>\n",
       "      <td>Modèle:508</td>\n",
       "      <td>Puissance fiscale:-</td>\n",
       "      <td>-</td>\n",
       "      <td>Type:Voitures, Offre</td>\n",
       "      <td>Temara</td>\n",
       "    </tr>\n",
       "    <tr>\n",
       "      <th>1</th>\n",
       "      <td>53000</td>\n",
       "      <td>2008</td>\n",
       "      <td>37499.5</td>\n",
       "      <td>Type de carburant:Diesel</td>\n",
       "      <td>Marque:Renault</td>\n",
       "      <td>Modèle:Clio</td>\n",
       "      <td>Puissance fiscale:-</td>\n",
       "      <td>-</td>\n",
       "      <td>Type:Voitures, Offre</td>\n",
       "      <td>Safi</td>\n",
       "    </tr>\n",
       "    <tr>\n",
       "      <th>2</th>\n",
       "      <td>59000</td>\n",
       "      <td>2007</td>\n",
       "      <td>184999.5</td>\n",
       "      <td>Type de carburant:Diesel</td>\n",
       "      <td>Marque:Citroen</td>\n",
       "      <td>Modèle:C3</td>\n",
       "      <td>Puissance fiscale:6 CV</td>\n",
       "      <td>Secteur:oued_fes</td>\n",
       "      <td>Type:Voitures, Offre</td>\n",
       "      <td>Fès</td>\n",
       "    </tr>\n",
       "    <tr>\n",
       "      <th>3</th>\n",
       "      <td>88000</td>\n",
       "      <td>2010</td>\n",
       "      <td>37499.5</td>\n",
       "      <td>Type de carburant:Diesel</td>\n",
       "      <td>Marque:Mercedes-Benz</td>\n",
       "      <td>Modèle:220</td>\n",
       "      <td>Puissance fiscale:-</td>\n",
       "      <td>-</td>\n",
       "      <td>Type:Voitures, Offre</td>\n",
       "      <td>Nador</td>\n",
       "    </tr>\n",
       "    <tr>\n",
       "      <th>4</th>\n",
       "      <td>60000</td>\n",
       "      <td>2009</td>\n",
       "      <td>134999.5</td>\n",
       "      <td>Type de carburant:Essence</td>\n",
       "      <td>Marque:Ford</td>\n",
       "      <td>Modèle:Fiesta</td>\n",
       "      <td>Puissance fiscale:7 CV</td>\n",
       "      <td>Secteur:saies</td>\n",
       "      <td>Type:Voitures, Offre</td>\n",
       "      <td>Fès</td>\n",
       "    </tr>\n",
       "  </tbody>\n",
       "</table>\n",
       "</div>"
      ],
      "text/plain": [
       "    price  year_model   mileage                  fuel_type  \\\n",
       "0  135000        2013  164999.5   Type de carburant:Diesel   \n",
       "1   53000        2008   37499.5   Type de carburant:Diesel   \n",
       "2   59000        2007  184999.5   Type de carburant:Diesel   \n",
       "3   88000        2010   37499.5   Type de carburant:Diesel   \n",
       "4   60000        2009  134999.5  Type de carburant:Essence   \n",
       "\n",
       "                   mark          model            fiscal_power  \\\n",
       "0        Marque:Peugeot     Modèle:508     Puissance fiscale:-   \n",
       "1        Marque:Renault    Modèle:Clio     Puissance fiscale:-   \n",
       "2        Marque:Citroen      Modèle:C3  Puissance fiscale:6 CV   \n",
       "3  Marque:Mercedes-Benz     Modèle:220     Puissance fiscale:-   \n",
       "4           Marque:Ford  Modèle:Fiesta  Puissance fiscale:7 CV   \n",
       "\n",
       "             sector                  type     city  \n",
       "0                 -  Type:Voitures, Offre   Temara  \n",
       "1                 -  Type:Voitures, Offre     Safi  \n",
       "2  Secteur:oued_fes  Type:Voitures, Offre      Fès  \n",
       "3                 -  Type:Voitures, Offre    Nador  \n",
       "4     Secteur:saies  Type:Voitures, Offre      Fès  "
      ]
     },
     "execution_count": 18,
     "metadata": {},
     "output_type": "execute_result"
    }
   ],
   "source": [
    "df.head()"
   ]
  },
  {
   "cell_type": "markdown",
   "metadata": {},
   "source": [
    "#### Fuel type"
   ]
  },
  {
   "cell_type": "code",
   "execution_count": 8,
   "metadata": {
    "collapsed": true
   },
   "outputs": [],
   "source": [
    "# remove the 'Type de carburant:' string from the carburant_type feature\n",
    "df.fuel_type = df.fuel_type.map(lambda x: x.lstrip('Type de carburant:'))"
   ]
  },
  {
   "cell_type": "markdown",
   "metadata": {},
   "source": [
    "#### Mark & Model"
   ]
  },
  {
   "cell_type": "code",
   "execution_count": 9,
   "metadata": {
    "collapsed": true
   },
   "outputs": [],
   "source": [
    "# remove the 'Marque:' string from the mark feature\n",
    "df['mark'] = df['mark'].map(lambda x: x.replace('Marque:', ''))\n",
    "df = df[df.mark != '-']\n",
    "# remove the 'Modèle:' string from model feature \n",
    "df['model'] = df['model'].map(lambda x: x.replace('Modèle:', ''))"
   ]
  },
  {
   "cell_type": "markdown",
   "metadata": {},
   "source": [
    "#### fiscal power"
   ]
  },
  {
   "cell_type": "markdown",
   "metadata": {},
   "source": [
    "<p class=\"lead\">Filling empty values with the mean.</p>"
   ]
  },
  {
   "cell_type": "code",
   "execution_count": 10,
   "metadata": {},
   "outputs": [
    {
     "data": {
      "text/plain": [
       "Puissance fiscale:-                5624\n",
       "Puissance fiscale:6 CV             1011\n",
       "Puissance fiscale:8 CV              692\n",
       "Puissance fiscale:7 CV              495\n",
       "Puissance fiscale:9 CV              207\n",
       "Puissance fiscale:11 CV             115\n",
       "Puissance fiscale:10 CV             109\n",
       "Puissance fiscale:5 CV              107\n",
       "Puissance fiscale:12 CV             103\n",
       "Puissance fiscale:4 CV               22\n",
       "Puissance fiscale:17 CV              14\n",
       "Puissance fiscale:13 CV              11\n",
       "Puissance fiscale:21 CV               8\n",
       "Puissance fiscale:-                   6\n",
       "Puissance fiscale:20 CV               5\n",
       "Puissance fiscale:23 CV               4\n",
       "Puissance fiscale:Plus de 48 CV       3\n",
       "Puissance fiscale:14 CV               3\n",
       "Puissance fiscale:26 CV               2\n",
       "Puissance fiscale:15 CV               2\n",
       "Puissance fiscale:29 CV               2\n",
       "Puissance fiscale:18 CV               2\n",
       "Puissance fiscale:40 CV               2\n",
       "Puissance fiscale:28 CV               1\n",
       "Puissance fiscale:34 CV               1\n",
       "Puissance fiscale:24 CV               1\n",
       "Puissance fiscale:19 CV               1\n",
       "Puissance fiscale:31 CV               1\n",
       "Puissance fiscale:39 CV               1\n",
       "Puissance fiscale:16 CV               1\n",
       "Name: fiscal_power, dtype: int64"
      ]
     },
     "execution_count": 10,
     "metadata": {},
     "output_type": "execute_result"
    }
   ],
   "source": [
    "df.fiscal_power.value_counts()"
   ]
  },
  {
   "cell_type": "code",
   "execution_count": 11,
   "metadata": {
    "collapsed": true
   },
   "outputs": [],
   "source": [
    "# remove the 'Puissance fiscale:' from the fiscal_power feature\n",
    "df.fiscal_power = df.fiscal_power.map(lambda x: x.lstrip('Puissance fiscale:Plus de').rstrip(' CV'))\n",
    "# replace the - with NaN values and convert them to integer values\n",
    "df.fiscal_power = df.fiscal_power.str.replace(\"-\",\"0\")\n",
    "# convert all fiscal_power values to numerical ones \n",
    "df.fiscal_power = pd.to_numeric(df.fiscal_power, errors = 'coerce', downcast= 'integer')\n",
    "# now we need to fill those 0 values with the mean of all fiscal_power columns\n",
    "df.fiscal_power = df.fiscal_power.map( lambda x : df.fiscal_power.mean() if x == 0 else x )"
   ]
  },
  {
   "cell_type": "markdown",
   "metadata": {},
   "source": [
    "#### fuel type"
   ]
  },
  {
   "cell_type": "code",
   "execution_count": 12,
   "metadata": {
    "collapsed": true
   },
   "outputs": [],
   "source": [
    "# remove those lines having the fuel_type not set\n",
    "df = df[df.fuel_type != '-']"
   ]
  },
  {
   "cell_type": "markdown",
   "metadata": {},
   "source": [
    "#### drop unwanted columns"
   ]
  },
  {
   "cell_type": "code",
   "execution_count": 13,
   "metadata": {
    "collapsed": true
   },
   "outputs": [],
   "source": [
    "df = df.drop(columns=['sector', 'type'])"
   ]
  },
  {
   "cell_type": "markdown",
   "metadata": {},
   "source": [
    "## Exploratory data analysis & Visualisation"
   ]
  },
  {
   "cell_type": "markdown",
   "metadata": {},
   "source": [
    "### price distribution by year_model"
   ]
  },
  {
   "cell_type": "code",
   "execution_count": 60,
   "metadata": {},
   "outputs": [
    {
     "data": {
      "image/png": "[encoded data removed]",
      "text/plain": [
       "<matplotlib.figure.Figure at 0x7fa4e9b174a8>"
      ]
     },
     "metadata": {},
     "output_type": "display_data"
    }
   ],
   "source": [
    "# here we set the figure size to 15x8\n",
    "plt.figure(figsize=(15, 8))\n",
    "# plot two values price per year_model\n",
    "plt.scatter(df.price, df.year_model)\n",
    "plt.xlabel(\"price (DH)\", fontsize=14)\n",
    "plt.ylabel(\"year of model\", fontsize=14)\n",
    "plt.title(\"Scatter plot of price and year of model\",fontsize=18)\n",
    "plt.show()"
   ]
  },
  {
   "cell_type": "markdown",
   "metadata": {},
   "source": [
    "### Price distribution by mark"
   ]
  },
  {
   "cell_type": "code",
   "execution_count": 61,
   "metadata": {},
   "outputs": [
    {
     "data": {
      "image/png": "[encoded data removed]",
      "text/plain": [
       "<matplotlib.figure.Figure at 0x7fa4e9a0dcc0>"
      ]
     },
     "metadata": {},
     "output_type": "display_data"
    }
   ],
   "source": [
    "f, ax = plt.subplots(figsize=(15, 12))\n",
    "sns.stripplot(data = df, x='price', y='mark', jitter=.1)\n",
    "plt.show()"
   ]
  },
  {
   "cell_type": "markdown",
   "metadata": {},
   "source": [
    "### price distribution by fiscal_power"
   ]
  },
  {
   "cell_type": "code",
   "execution_count": 62,
   "metadata": {},
   "outputs": [
    {
     "data": {
      "image/png": "[encoded data removed]",
      "text/plain": [
       "<matplotlib.figure.Figure at 0x7fa4ee2c8f28>"
      ]
     },
     "metadata": {},
     "output_type": "display_data"
    }
   ],
   "source": [
    "# here we set the figure size to 15x8\n",
    "plt.figure(figsize=(15, 8))\n",
    "# plot two values price per year_model\n",
    "plt.scatter(df.price, df.fiscal_power, c='orange', marker='x')\n",
    "plt.xlabel(\"price (DH)\", fontsize=14)\n",
    "plt.ylabel(\"fiscal power (CV)\", fontsize=14)\n",
    "plt.title(\"Scatter plot of price and fiscal power\",fontsize=18)\n",
    "plt.show()"
   ]
  },
  {
   "cell_type": "markdown",
   "metadata": {},
   "source": [
    "### Top 20 Mark Distribution"
   ]
  },
  {
   "cell_type": "code",
   "execution_count": 63,
   "metadata": {},
   "outputs": [
    {
     "name": "stdout",
     "output_type": "stream",
     "text": [
      "The length of unique marks feature is 54\n"
     ]
    }
   ],
   "source": [
    "print('The length of unique marks feature is',len(df.mark.unique()))"
   ]
  },
  {
   "cell_type": "code",
   "execution_count": 64,
   "metadata": {},
   "outputs": [
    {
     "data": {
      "image/png": "[encoded data removed]",
      "text/plain": [
       "<matplotlib.figure.Figure at 0x7fa4e99fad68>"
      ]
     },
     "metadata": {},
     "output_type": "display_data"
    }
   ],
   "source": [
    "plt.figure(figsize=(17,8))\n",
    "df.mark.value_counts().nlargest(20).plot(kind='barh')\n",
    "plt.xlabel('Marks Frequency')\n",
    "plt.title(\"Frequency of TOP 20 Marks distribution\",fontsize=18)\n",
    "plt.show()"
   ]
  },
  {
   "cell_type": "markdown",
   "metadata": {},
   "source": [
    "### Price Distribution by fuel type"
   ]
  },
  {
   "cell_type": "code",
   "execution_count": 65,
   "metadata": {},
   "outputs": [
    {
     "data": {
      "image/png": "[encoded data removed]",
      "text/plain": [
       "<matplotlib.figure.Figure at 0x7fa4e99faf28>"
      ]
     },
     "metadata": {},
     "output_type": "display_data"
    }
   ],
   "source": [
    "f, ax = plt.subplots(figsize=(15, 10))\n",
    "sns.stripplot(data = df, x='fuel_type', y='price', jitter=.5)\n",
    "plt.show()"
   ]
  },
  {
   "cell_type": "markdown",
   "metadata": {},
   "source": [
    "### Correlation matrix"
   ]
  },
  {
   "cell_type": "code",
   "execution_count": 69,
   "metadata": {},
   "outputs": [
    {
     "data": {
      "image/png": "[encoded data removed]",
      "text/plain": [
       "<matplotlib.figure.Figure at 0x7fa4e9a0e358>"
      ]
     },
     "metadata": {},
     "output_type": "display_data"
    }
   ],
   "source": [
    "# Generate a custom diverging colormap\n",
    "cmap = sns.diverging_palette(220, 10, as_cmap=True)\n",
    "# Set up the matplotlib figure\n",
    "f, ax = plt.subplots(figsize=(15, 10))\n",
    "# Compute the correlation matrix\n",
    "corr = df.corr()\n",
    "#print(corr)\n",
    "# Generate a mask for the upper triangle\n",
    "mask = np.zeros_like(corr, dtype=np.bool)\n",
    "mask[np.triu_indices_from(mask)] = True\n",
    "# Draw the heatmap with the mask and correct aspect ratio\n",
    "sns.heatmap(corr, mask=mask, cmap=cmap, vmax=.3, center=0,\n",
    "            square=True, linewidths=.5, cbar_kws={\"shrink\": .5})\n",
    "plt.title('Correlation matrix', \n",
    "          fontsize = 20)\n",
    "plt.show()"
   ]
  },
  {
   "cell_type": "markdown",
   "metadata": {},
   "source": [
    "# Data Modeling "
   ]
  },
  {
   "cell_type": "markdown",
   "metadata": {},
   "source": [
    "## KNN Regression"
   ]
  },
  {
   "cell_type": "code",
   "execution_count": 14,
   "metadata": {
    "collapsed": true
   },
   "outputs": [],
   "source": [
    "## create a dataframefor testing\n",
    "data = df[df.price < 400000]"
   ]
  },
  {
   "cell_type": "code",
   "execution_count": 15,
   "metadata": {},
   "outputs": [
    {
     "data": {
      "text/html": [
       "<div>\n",
       "<style scoped>\n",
       "    .dataframe tbody tr th:only-of-type {\n",
       "        vertical-align: middle;\n",
       "    }\n",
       "\n",
       "    .dataframe tbody tr th {\n",
       "        vertical-align: top;\n",
       "    }\n",
       "\n",
       "    .dataframe thead th {\n",
       "        text-align: right;\n",
       "    }\n",
       "</style>\n",
       "<table border=\"1\" class=\"dataframe\">\n",
       "  <thead>\n",
       "    <tr style=\"text-align: right;\">\n",
       "      <th></th>\n",
       "      <th>price</th>\n",
       "      <th>year_model</th>\n",
       "      <th>mileage</th>\n",
       "      <th>fuel_type</th>\n",
       "      <th>mark</th>\n",
       "      <th>model</th>\n",
       "      <th>fiscal_power</th>\n",
       "      <th>city</th>\n",
       "    </tr>\n",
       "  </thead>\n",
       "  <tbody>\n",
       "    <tr>\n",
       "      <th>0</th>\n",
       "      <td>135000</td>\n",
       "      <td>2013</td>\n",
       "      <td>164999.5</td>\n",
       "      <td>Diesel</td>\n",
       "      <td>Peugeot</td>\n",
       "      <td>508</td>\n",
       "      <td>2.631837</td>\n",
       "      <td>Temara</td>\n",
       "    </tr>\n",
       "    <tr>\n",
       "      <th>1</th>\n",
       "      <td>53000</td>\n",
       "      <td>2008</td>\n",
       "      <td>37499.5</td>\n",
       "      <td>Diesel</td>\n",
       "      <td>Renault</td>\n",
       "      <td>Clio</td>\n",
       "      <td>2.631837</td>\n",
       "      <td>Safi</td>\n",
       "    </tr>\n",
       "    <tr>\n",
       "      <th>2</th>\n",
       "      <td>59000</td>\n",
       "      <td>2007</td>\n",
       "      <td>184999.5</td>\n",
       "      <td>Diesel</td>\n",
       "      <td>Citroen</td>\n",
       "      <td>C3</td>\n",
       "      <td>6.000000</td>\n",
       "      <td>Fès</td>\n",
       "    </tr>\n",
       "    <tr>\n",
       "      <th>3</th>\n",
       "      <td>88000</td>\n",
       "      <td>2010</td>\n",
       "      <td>37499.5</td>\n",
       "      <td>Diesel</td>\n",
       "      <td>Mercedes-Benz</td>\n",
       "      <td>220</td>\n",
       "      <td>2.631837</td>\n",
       "      <td>Nador</td>\n",
       "    </tr>\n",
       "    <tr>\n",
       "      <th>4</th>\n",
       "      <td>60000</td>\n",
       "      <td>2009</td>\n",
       "      <td>134999.5</td>\n",
       "      <td>Essence</td>\n",
       "      <td>Ford</td>\n",
       "      <td>Fiesta</td>\n",
       "      <td>7.000000</td>\n",
       "      <td>Fès</td>\n",
       "    </tr>\n",
       "  </tbody>\n",
       "</table>\n",
       "</div>"
      ],
      "text/plain": [
       "    price  year_model   mileage fuel_type           mark   model  \\\n",
       "0  135000        2013  164999.5    Diesel        Peugeot     508   \n",
       "1   53000        2008   37499.5    Diesel        Renault    Clio   \n",
       "2   59000        2007  184999.5    Diesel        Citroen      C3   \n",
       "3   88000        2010   37499.5    Diesel  Mercedes-Benz     220   \n",
       "4   60000        2009  134999.5   Essence           Ford  Fiesta   \n",
       "\n",
       "   fiscal_power     city  \n",
       "0      2.631837   Temara  \n",
       "1      2.631837     Safi  \n",
       "2      6.000000      Fès  \n",
       "3      2.631837    Nador  \n",
       "4      7.000000      Fès  "
      ]
     },
     "execution_count": 15,
     "metadata": {},
     "output_type": "execute_result"
    }
   ],
   "source": [
    "data.head()"
   ]
  },
  {
   "cell_type": "code",
   "execution_count": 16,
   "metadata": {},
   "outputs": [
    {
     "name": "stdout",
     "output_type": "stream",
     "text": [
      "8456\n",
      "8553\n"
     ]
    }
   ],
   "source": [
    "print(len(data))\n",
    "print(len(df))"
   ]
  },
  {
   "cell_type": "markdown",
   "metadata": {},
   "source": [
    "### Dealing with Categorical Features"
   ]
  },
  {
   "cell_type": "code",
   "execution_count": 17,
   "metadata": {
    "collapsed": true
   },
   "outputs": [],
   "source": [
    "X = data[['year_model', 'mileage', 'fiscal_power', 'fuel_type', 'mark']]\n",
    "Y = data.price\n",
    "X = pd.get_dummies(data=X)"
   ]
  },
  {
   "cell_type": "code",
   "execution_count": 18,
   "metadata": {},
   "outputs": [
    {
     "data": {
      "text/html": [
       "<div>\n",
       "<style scoped>\n",
       "    .dataframe tbody tr th:only-of-type {\n",
       "        vertical-align: middle;\n",
       "    }\n",
       "\n",
       "    .dataframe tbody tr th {\n",
       "        vertical-align: top;\n",
       "    }\n",
       "\n",
       "    .dataframe thead th {\n",
       "        text-align: right;\n",
       "    }\n",
       "</style>\n",
       "<table border=\"1\" class=\"dataframe\">\n",
       "  <thead>\n",
       "    <tr style=\"text-align: right;\">\n",
       "      <th></th>\n",
       "      <th>year_model</th>\n",
       "      <th>mileage</th>\n",
       "      <th>fiscal_power</th>\n",
       "      <th>fuel_type_Diesel</th>\n",
       "      <th>fuel_type_Electrique</th>\n",
       "      <th>fuel_type_Essence</th>\n",
       "      <th>fuel_type_LPG</th>\n",
       "      <th>mark_Acura</th>\n",
       "      <th>mark_Alfa Romeo</th>\n",
       "      <th>mark_Audi</th>\n",
       "      <th>...</th>\n",
       "      <th>mark_Skoda</th>\n",
       "      <th>mark_Ssangyong</th>\n",
       "      <th>mark_Suzuki</th>\n",
       "      <th>mark_Toyota</th>\n",
       "      <th>mark_UFO</th>\n",
       "      <th>mark_Volkswagen</th>\n",
       "      <th>mark_Volvo</th>\n",
       "      <th>mark_Zotye</th>\n",
       "      <th>mark_lancia</th>\n",
       "      <th>mark_mini</th>\n",
       "    </tr>\n",
       "  </thead>\n",
       "  <tbody>\n",
       "    <tr>\n",
       "      <th>0</th>\n",
       "      <td>2013</td>\n",
       "      <td>164999.5</td>\n",
       "      <td>2.631837</td>\n",
       "      <td>1</td>\n",
       "      <td>0</td>\n",
       "      <td>0</td>\n",
       "      <td>0</td>\n",
       "      <td>0</td>\n",
       "      <td>0</td>\n",
       "      <td>0</td>\n",
       "      <td>...</td>\n",
       "      <td>0</td>\n",
       "      <td>0</td>\n",
       "      <td>0</td>\n",
       "      <td>0</td>\n",
       "      <td>0</td>\n",
       "      <td>0</td>\n",
       "      <td>0</td>\n",
       "      <td>0</td>\n",
       "      <td>0</td>\n",
       "      <td>0</td>\n",
       "    </tr>\n",
       "    <tr>\n",
       "      <th>1</th>\n",
       "      <td>2008</td>\n",
       "      <td>37499.5</td>\n",
       "      <td>2.631837</td>\n",
       "      <td>1</td>\n",
       "      <td>0</td>\n",
       "      <td>0</td>\n",
       "      <td>0</td>\n",
       "      <td>0</td>\n",
       "      <td>0</td>\n",
       "      <td>0</td>\n",
       "      <td>...</td>\n",
       "      <td>0</td>\n",
       "      <td>0</td>\n",
       "      <td>0</td>\n",
       "      <td>0</td>\n",
       "      <td>0</td>\n",
       "      <td>0</td>\n",
       "      <td>0</td>\n",
       "      <td>0</td>\n",
       "      <td>0</td>\n",
       "      <td>0</td>\n",
       "    </tr>\n",
       "    <tr>\n",
       "      <th>2</th>\n",
       "      <td>2007</td>\n",
       "      <td>184999.5</td>\n",
       "      <td>6.000000</td>\n",
       "      <td>1</td>\n",
       "      <td>0</td>\n",
       "      <td>0</td>\n",
       "      <td>0</td>\n",
       "      <td>0</td>\n",
       "      <td>0</td>\n",
       "      <td>0</td>\n",
       "      <td>...</td>\n",
       "      <td>0</td>\n",
       "      <td>0</td>\n",
       "      <td>0</td>\n",
       "      <td>0</td>\n",
       "      <td>0</td>\n",
       "      <td>0</td>\n",
       "      <td>0</td>\n",
       "      <td>0</td>\n",
       "      <td>0</td>\n",
       "      <td>0</td>\n",
       "    </tr>\n",
       "    <tr>\n",
       "      <th>3</th>\n",
       "      <td>2010</td>\n",
       "      <td>37499.5</td>\n",
       "      <td>2.631837</td>\n",
       "      <td>1</td>\n",
       "      <td>0</td>\n",
       "      <td>0</td>\n",
       "      <td>0</td>\n",
       "      <td>0</td>\n",
       "      <td>0</td>\n",
       "      <td>0</td>\n",
       "      <td>...</td>\n",
       "      <td>0</td>\n",
       "      <td>0</td>\n",
       "      <td>0</td>\n",
       "      <td>0</td>\n",
       "      <td>0</td>\n",
       "      <td>0</td>\n",
       "      <td>0</td>\n",
       "      <td>0</td>\n",
       "      <td>0</td>\n",
       "      <td>0</td>\n",
       "    </tr>\n",
       "    <tr>\n",
       "      <th>4</th>\n",
       "      <td>2009</td>\n",
       "      <td>134999.5</td>\n",
       "      <td>7.000000</td>\n",
       "      <td>0</td>\n",
       "      <td>0</td>\n",
       "      <td>1</td>\n",
       "      <td>0</td>\n",
       "      <td>0</td>\n",
       "      <td>0</td>\n",
       "      <td>0</td>\n",
       "      <td>...</td>\n",
       "      <td>0</td>\n",
       "      <td>0</td>\n",
       "      <td>0</td>\n",
       "      <td>0</td>\n",
       "      <td>0</td>\n",
       "      <td>0</td>\n",
       "      <td>0</td>\n",
       "      <td>0</td>\n",
       "      <td>0</td>\n",
       "      <td>0</td>\n",
       "    </tr>\n",
       "  </tbody>\n",
       "</table>\n",
       "<p>5 rows × 61 columns</p>\n",
       "</div>"
      ],
      "text/plain": [
       "   year_model   mileage  fiscal_power  fuel_type_Diesel  fuel_type_Electrique  \\\n",
       "0        2013  164999.5      2.631837                 1                     0   \n",
       "1        2008   37499.5      2.631837                 1                     0   \n",
       "2        2007  184999.5      6.000000                 1                     0   \n",
       "3        2010   37499.5      2.631837                 1                     0   \n",
       "4        2009  134999.5      7.000000                 0                     0   \n",
       "\n",
       "   fuel_type_Essence  fuel_type_LPG  mark_Acura  mark_Alfa Romeo  mark_Audi  \\\n",
       "0                  0              0           0                0          0   \n",
       "1                  0              0           0                0          0   \n",
       "2                  0              0           0                0          0   \n",
       "3                  0              0           0                0          0   \n",
       "4                  1              0           0                0          0   \n",
       "\n",
       "     ...      mark_Skoda  mark_Ssangyong  mark_Suzuki  mark_Toyota  mark_UFO  \\\n",
       "0    ...               0               0            0            0         0   \n",
       "1    ...               0               0            0            0         0   \n",
       "2    ...               0               0            0            0         0   \n",
       "3    ...               0               0            0            0         0   \n",
       "4    ...               0               0            0            0         0   \n",
       "\n",
       "   mark_Volkswagen  mark_Volvo  mark_Zotye  mark_lancia  mark_mini  \n",
       "0                0           0           0            0          0  \n",
       "1                0           0           0            0          0  \n",
       "2                0           0           0            0          0  \n",
       "3                0           0           0            0          0  \n",
       "4                0           0           0            0          0  \n",
       "\n",
       "[5 rows x 61 columns]"
      ]
     },
     "execution_count": 18,
     "metadata": {},
     "output_type": "execute_result"
    }
   ],
   "source": [
    "X.head()"
   ]
  },
  {
   "cell_type": "markdown",
   "metadata": {},
   "source": [
    "### Data Splitting "
   ]
  },
  {
   "cell_type": "code",
   "execution_count": 19,
   "metadata": {
    "collapsed": true
   },
   "outputs": [],
   "source": [
    "# now we use the train_test_split function already available in sklearn library to split our data set\n",
    "X_train, X_test, Y_train, Y_test = train_test_split(X, Y, test_size = .20, random_state = 42)"
   ]
  },
  {
   "cell_type": "code",
   "execution_count": null,
   "metadata": {
    "collapsed": true
   },
   "outputs": [],
   "source": [
    "from sklearn import neighbors\n",
    "# the value of n_neighbors will be changed when we plot the histogram showing the lowest RMSE value\n",
    "knn = neighbors.KNeighborsRegressor(n_neighbors=6)\n",
    "knn.fit(X_train, Y_train)\n",
    "\n",
    "predicted = knn.predict(X_test)\n",
    "\n",
    "from sklearn.metrics import mean_squared_error\n",
    "rmse = np.sqrt(mean_squared_error(Y_test, predicted))\n",
    "print('RMSE:')\n",
    "print(rmse)"
   ]
  },
  {
   "cell_type": "code",
   "execution_count": 78,
   "metadata": {},
   "outputs": [
    {
     "name": "stdout",
     "output_type": "stream",
     "text": [
      "Variance score: 0.56\n"
     ]
    }
   ],
   "source": [
    "from sklearn.metrics import r2_score\n",
    "print('Variance score: %.2f' % r2_score(Y_test, predicted))"
   ]
  },
  {
   "cell_type": "code",
   "execution_count": 79,
   "metadata": {
    "collapsed": true
   },
   "outputs": [],
   "source": [
    "rmse_l = []\n",
    "num = []\n",
    "for n in range(2, 16):\n",
    "    knn = neighbors.KNeighborsRegressor(n_neighbors=n)\n",
    "    knn.fit(X_train, Y_train)\n",
    "    predicted = knn.predict(X_test)\n",
    "    rmse_l.append(np.sqrt(mean_squared_error(Y_test, predicted)))\n",
    "    num.append(n)"
   ]
  },
  {
   "cell_type": "code",
   "execution_count": 80,
   "metadata": {},
   "outputs": [
    {
     "data": {
      "image/png": "[encoded data removed]",
      "text/plain": [
       "<matplotlib.figure.Figure at 0x7fa4e8c428d0>"
      ]
     },
     "metadata": {},
     "output_type": "display_data"
    }
   ],
   "source": [
    "df_plt = pd.DataFrame()\n",
    "df_plt['rmse'] = rmse_l\n",
    "df_plt['n_neighbors'] = num\n",
    "ax = plt.figure(figsize=(15,7))\n",
    "sns.barplot(data = df_plt, x = 'n_neighbors', y = 'rmse')\n",
    "plt.show()"
   ]
  },
  {
   "cell_type": "markdown",
   "metadata": {},
   "source": [
    "<p class=\"lead\">It appears that 6 nearest neighbors is the optimal number of neighbors.</p>"
   ]
  },
  {
   "cell_type": "markdown",
   "metadata": {},
   "source": [
    "## Descision Tree Regression"
   ]
  },
  {
   "cell_type": "code",
   "execution_count": null,
   "metadata": {
    "collapsed": true
   },
   "outputs": [],
   "source": [
    " from sklearn.tree import DecisionTreeRegressor\n",
    "\n",
    "dtr = DecisionTreeRegressor(max_features='auto')\n",
    "dtr.fit(X_train, Y_train)\n",
    "predicted = dtr.predict(X_test)\n",
    "\n",
    "from sklearn.metrics import mean_squared_error\n",
    "rmse = np.sqrt(mean_squared_error(Y_test, predicted))\n",
    "print('RMSE:')\n",
    "print(rmse)"
   ]
  },
  {
   "cell_type": "code",
   "execution_count": 26,
   "metadata": {},
   "outputs": [
    {
     "name": "stdout",
     "output_type": "stream",
     "text": [
      "Variance score: 0.63\n"
     ]
    }
   ],
   "source": [
    "print('Variance score: %.2f' % r2_score(Y_test, predicted))"
   ]
  },
  {
   "cell_type": "markdown",
   "metadata": {},
   "source": [
    "## Linear Regression "
   ]
  },
  {
   "cell_type": "code",
   "execution_count": null,
   "metadata": {
    "collapsed": true
   },
   "outputs": [],
   "source": [
    "from sklearn import linear_model\n",
    "\n",
    "regr = linear_model.LinearRegression()\n",
    "regr.fit(X_train, Y_train)\n",
    "\n",
    "predicted = regr.predict(X_test)\n",
    "\n",
    "\n",
    "from sklearn.metrics import mean_squared_error\n",
    "rmse = np.sqrt(mean_squared_error(Y_test, predicted))\n",
    "print('RMSE:')\n",
    "print(rmse)"
   ]
  },
  {
   "cell_type": "code",
   "execution_count": 30,
   "metadata": {},
   "outputs": [
    {
     "name": "stdout",
     "output_type": "stream",
     "text": [
      "Variance score: 0.62\n"
     ]
    }
   ],
   "source": [
    "print('Variance score: %.2f' % r2_score(Y_test, predicted))"
   ]
  },
  {
   "cell_type": "markdown",
   "metadata": {},
   "source": [
    "## Boosting"
   ]
  },
  {
   "cell_type": "code",
   "execution_count": 39,
   "metadata": {
    "collapsed": true
   },
   "outputs": [],
   "source": [
    "from sklearn.ensemble import GradientBoostingRegressor\n",
    "from sklearn.model_selection import cross_val_score\n",
    "\n",
    "r_sq = []\n",
    "deep = []\n",
    "mean_scores = []\n",
    "\n",
    "#loss : {‘ls’, ‘lad’, ‘huber’, ‘quantile’}\n",
    "for n in range(3, 11):\n",
    "    gbr = GradientBoostingRegressor(loss ='ls', max_depth=n)\n",
    "    gbr.fit (X, Y)\n",
    "    deep.append(n)\n",
    "    r_sq.append(gbr.score(X, Y))\n",
    "    mean_scores.append(cross_val_score(gbr, X, Y, cv=12).mean())"
   ]
  },
  {
   "cell_type": "code",
   "execution_count": null,
   "metadata": {
    "collapsed": true
   },
   "outputs": [],
   "source": [
    "from sklearn.ensemble import GradientBoostingRegressor\n",
    "from sklearn.model_selection import cross_val_score\n",
    "\n",
    "gbr = GradientBoostingRegressor(loss ='ls', max_depth=6)\n",
    "gbr.fit (X_train, Y_train)\n",
    "predicted = gbr.predict(X_test)\n",
    "\n",
    "rmse = np.sqrt(mean_squared_error(Y_test, predicted))\n",
    "scores = cross_val_score(gbr, X, Y, cv=12)\n",
    "\n",
    "print('\\nCross Validation Scores:')\n",
    "print(scores)\n",
    "print('\\nMean Score:')\n",
    "print(scores.mean())\n",
    "print('\\nRMSE:')\n",
    "print(rmse)"
   ]
  },
  {
   "cell_type": "code",
   "execution_count": 87,
   "metadata": {},
   "outputs": [
    {
     "name": "stdout",
     "output_type": "stream",
     "text": [
      "Variance score: 0.80\n"
     ]
    }
   ],
   "source": [
    "print('Variance score: %.2f' % r2_score(Y_test, predicted))"
   ]
  },
  {
   "cell_type": "markdown",
   "metadata": {},
   "source": [
    "## Model Evaluation"
   ]
  },
  {
   "cell_type": "markdown",
   "metadata": {},
   "source": [
    "<table class=\"table table-bordered\">\n",
    "    <thead>\n",
    "      <tr>\n",
    "        <th>Model</th>\n",
    "        <th>Variance Score</th>\n",
    "        <th>RMSE</th>\n",
    "      </tr>\n",
    "    </thead>\n",
    "    <tbody>\n",
    "      <tr>\n",
    "        <td>KNN</td>\n",
    "        <td>0.56</td>\n",
    "        <td>37709.67</td>\n",
    "      </tr>\n",
    "      <tr>\n",
    "        <td>Multiple Linear Regression</td>\n",
    "        <td>0.62</td>\n",
    "        <td>34865.07</td>\n",
    "      </tr>\n",
    "      <tr style=\"color: green\">\n",
    "        <td>Gradient Boosting</td>\n",
    "        <td>0.80</td>\n",
    "        <td>25176.16</td>\n",
    "      </tr>\n",
    "      <tr>\n",
    "        <td><b>Decision Tree</b></td>\n",
    "        <td><b>0.63</b></td>\n",
    "        <td><b>34551.17</b></td>\n",
    "      </tr>\n",
    "    </tbody>\n",
    "</table>"
   ]
  },
  {
   "cell_type": "markdown",
   "metadata": {},
   "source": [
    "## Prediction"
   ]
  },
  {
   "cell_type": "code",
   "execution_count": 39,
   "metadata": {
    "collapsed": true
   },
   "outputs": [],
   "source": [
    "# user_input = [2010, 124999.5, 6, 'Diesel', 'BMW']\n",
    "user_input = {'year_model':2006, 'mileage':82499.5, 'fiscal_power':6, 'fuel_type':'Diesel', 'mark':'Dacia'}\n",
    "def input_to_one_hot(data):\n",
    "    # initialize the target vector with zero values\n",
    "    enc_input = np.zeros(61)\n",
    "    # set the numerical input as they are\n",
    "    enc_input[0] = data['year_model']\n",
    "    enc_input[1] = data['mileage']\n",
    "    enc_input[2] = data['fiscal_power']\n",
    "    # get the array of marks categories\n",
    "    marks = df.mark.unique()\n",
    "    # redefine the the user inout to match the column name\n",
    "    redefinded_user_input = 'mark_'+data['mark']\n",
    "    # search for the index in columns name list \n",
    "    mark_column_index = X.columns.tolist().index(redefinded_user_input)\n",
    "    #print(mark_column_index)\n",
    "    # fullfill the found index with 1\n",
    "    enc_input[mark_column_index] = 1\n",
    "    # get the array of fuel type\n",
    "    fuel_types = df.fuel_type.unique()\n",
    "    # redefine the the user inout to match the column name\n",
    "    redefinded_user_input = 'fuel_type_'+data['fuel_type']\n",
    "    # search for the index in columns name list \n",
    "    fuelType_column_index = X.columns.tolist().index(redefinded_user_input)\n",
    "    # fullfill the found index with 1\n",
    "    enc_input[fuelType_column_index] = 1\n",
    "    return enc_input"
   ]
  },
  {
   "cell_type": "code",
   "execution_count": 40,
   "metadata": {},
   "outputs": [
    {
     "name": "stdout",
     "output_type": "stream",
     "text": [
      "[  2.00600000e+03   8.24995000e+04   6.00000000e+00   1.00000000e+00\n",
      "   0.00000000e+00   0.00000000e+00   0.00000000e+00   0.00000000e+00\n",
      "   0.00000000e+00   0.00000000e+00   0.00000000e+00   0.00000000e+00\n",
      "   0.00000000e+00   0.00000000e+00   0.00000000e+00   0.00000000e+00\n",
      "   0.00000000e+00   0.00000000e+00   0.00000000e+00   0.00000000e+00\n",
      "   1.00000000e+00   0.00000000e+00   0.00000000e+00   0.00000000e+00\n",
      "   0.00000000e+00   0.00000000e+00   0.00000000e+00   0.00000000e+00\n",
      "   0.00000000e+00   0.00000000e+00   0.00000000e+00   0.00000000e+00\n",
      "   0.00000000e+00   0.00000000e+00   0.00000000e+00   0.00000000e+00\n",
      "   0.00000000e+00   0.00000000e+00   0.00000000e+00   0.00000000e+00\n",
      "   0.00000000e+00   0.00000000e+00   0.00000000e+00   0.00000000e+00\n",
      "   0.00000000e+00   0.00000000e+00   0.00000000e+00   0.00000000e+00\n",
      "   0.00000000e+00   0.00000000e+00   0.00000000e+00   0.00000000e+00\n",
      "   0.00000000e+00   0.00000000e+00   0.00000000e+00   0.00000000e+00\n",
      "   0.00000000e+00   0.00000000e+00   0.00000000e+00   0.00000000e+00\n",
      "   0.00000000e+00]\n"
     ]
    }
   ],
   "source": [
    "print(input_to_one_hot(user_input))"
   ]
  },
  {
   "cell_type": "code",
   "execution_count": 41,
   "metadata": {
    "collapsed": true
   },
   "outputs": [],
   "source": [
    "a = input_to_one_hot(user_input)"
   ]
  },
  {
   "cell_type": "code",
   "execution_count": 42,
   "metadata": {
    "collapsed": true
   },
   "outputs": [],
   "source": [
    "price_pred = gbr.predict([a])"
   ]
  },
  {
   "cell_type": "code",
   "execution_count": 43,
   "metadata": {},
   "outputs": [
    {
     "data": {
      "text/plain": [
       "59156.004150951689"
      ]
     },
     "execution_count": 43,
     "metadata": {},
     "output_type": "execute_result"
    }
   ],
   "source": [
    "price_pred[0]"
   ]
  },
  {
   "cell_type": "markdown",
   "metadata": {},
   "source": [
    "### Save the best Model"
   ]
  },
  {
   "cell_type": "code",
   "execution_count": 44,
   "metadata": {},
   "outputs": [
    {
     "data": {
      "text/plain": [
       "['model.pkl']"
      ]
     },
     "execution_count": 44,
     "metadata": {},
     "output_type": "execute_result"
    }
   ],
   "source": [
    "from sklearn.externals import joblib\n",
    "\n",
    "joblib.dump(gbr, 'model.pkl')"
   ]
  },
  {
   "cell_type": "code",
   "execution_count": 45,
   "metadata": {
    "collapsed": true
   },
   "outputs": [],
   "source": [
    "gbr = joblib.load('model.pkl')"
   ]
  },
  {
   "cell_type": "code",
   "execution_count": 47,
   "metadata": {},
   "outputs": [
    {
     "name": "stdout",
     "output_type": "stream",
     "text": [
      "the best price for this Dacia is 59156.004151\n"
     ]
    }
   ],
   "source": [
    "print(\"the best price for this Dacia is\",gbr.predict([a])[0])"
   ]
  },
  {
   "cell_type": "code",
   "execution_count": null,
   "metadata": {
    "collapsed": true
   },
   "outputs": [],
   "source": []
  },
  {
   "cell_type": "code",
   "execution_count": null,
   "metadata": {
    "collapsed": true
   },
   "outputs": [],
   "source": []
  }
 ],
 "metadata": {
  "kernelspec": {
   "display_name": "Python 3",
   "language": "python",
   "name": "python3"
  },
  "language_info": {
   "codemirror_mode": {
    "name": "ipython",
    "version": 3
   },
   "file_extension": ".py",
   "mimetype": "text/x-python",
   "name": "python",
   "nbconvert_exporter": "python",
   "pygments_lexer": "ipython3",
   "version": "3.6.1"
  }
 },
 "nbformat": 4,
 "nbformat_minor": 2
}
